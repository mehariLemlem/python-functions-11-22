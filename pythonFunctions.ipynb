{
  "nbformat": 4,
  "nbformat_minor": 0,
  "metadata": {
    "colab": {
      "provenance": [],
      "authorship_tag": "ABX9TyPVs9B0mAkbIVFn9d93t2V0",
      "include_colab_link": true
    },
    "kernelspec": {
      "name": "python3",
      "display_name": "Python 3"
    },
    "language_info": {
      "name": "python"
    }
  },
  "cells": [
    {
      "cell_type": "markdown",
      "metadata": {
        "id": "view-in-github",
        "colab_type": "text"
      },
      "source": [
        "<a href=\"https://colab.research.google.com/github/mehariLemlem/python-functions-11-22/blob/main/pythonFunctions.ipynb\" target=\"_parent\"><img src=\"https://colab.research.google.com/assets/colab-badge.svg\" alt=\"Open In Colab\"/></a>"
      ]
    },
    {
      "cell_type": "code",
      "execution_count": null,
      "metadata": {
        "id": "wqgqcK1VZKTv"
      },
      "outputs": [],
      "source": []
    },
    {
      "cell_type": "markdown",
      "source": [
        "# Lesson One: Statements\n"
      ],
      "metadata": {
        "id": "oTy5JznNkHkN"
      }
    },
    {
      "cell_type": "code",
      "source": [],
      "metadata": {
        "id": "ved7bCnTkY-i"
      },
      "execution_count": null,
      "outputs": []
    }
  ]
}